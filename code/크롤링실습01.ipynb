{
 "cells": [
  {
   "cell_type": "markdown",
   "id": "a7786091",
   "metadata": {},
   "source": [
    "# 웹크롤링 Requests, BeautifulSoup 라이브러리 사용해서 크롤링 해보기"
   ]
  },
  {
   "cell_type": "code",
   "execution_count": 1,
   "id": "125ad609",
   "metadata": {},
   "outputs": [],
   "source": [
    "import requests\n",
    "from bs4 import BeautifulSoup\n",
    "import os"
   ]
  },
  {
   "cell_type": "code",
   "execution_count": 5,
   "id": "a48d20ba",
   "metadata": {
    "scrolled": true
   },
   "outputs": [
    {
     "name": "stdout",
     "output_type": "stream",
     "text": [
      "0 /images/branding/searchlogo/1x/googlelogo_desk_heirloom_color_150x55dp.gif\n",
      "1 https://encrypted-tbn0.gstatic.com/images?q=tbn:ANd9GcTcphgszxR6saYFj-4lYLrYPzWVwOfw6WNOJ7_7wIHO6dTylT-X8Z8IGv-Sog8&s\n",
      "2 https://encrypted-tbn0.gstatic.com/images?q=tbn:ANd9GcToSjh7ZNYssLfOwocI9z26wYRKvLiaJAcIa-gmST4VkNK7qbl9pQoUB1IF4w&s\n",
      "3 https://encrypted-tbn0.gstatic.com/images?q=tbn:ANd9GcSPYh4Z1PVVmbTWo82DFnEhsTeEa6f0i9MmMdyeYyZs8zlmbnsKNc8eoTCZWw&s\n",
      "4 https://encrypted-tbn0.gstatic.com/images?q=tbn:ANd9GcTCzZXZKPyapDs3YPcBDX-nA3jI5i0wCiYtXfxD5290dAgofc2Hs5W6zgrtoMk&s\n",
      "5 https://encrypted-tbn0.gstatic.com/images?q=tbn:ANd9GcQUbHRS4MgjBVUuScBgBpe9-e8l-aBQgr7LJat5NAHXSH2Vg8WLsMgk3RuYI3s&s\n",
      "6 https://encrypted-tbn0.gstatic.com/images?q=tbn:ANd9GcREia-jaIhrpubAyI7o3ijiS8AIHXRGCe3k0QkC-bw0n61gzO99RnwFBzIqQA&s\n",
      "7 https://encrypted-tbn0.gstatic.com/images?q=tbn:ANd9GcRTWZYi4dZ5WhUpn6_iCS5GoG8phOtQvxQQ1IrovXFRkf0uUD1rN2pc8U34iNM&s\n",
      "8 https://encrypted-tbn0.gstatic.com/images?q=tbn:ANd9GcRQ8bM02ULMxe5dtQTJfJnPWjo-qn_XIJebTpODYygNAUhSrJPezEwIC42dXg&s\n",
      "9 https://encrypted-tbn0.gstatic.com/images?q=tbn:ANd9GcTZou52MJ5Hr-WcgyJgpBwRXzc1ittvwnz9IQ3SHbIo9ZN37lX0eGAJ8pLZ21U&s\n",
      "10 https://encrypted-tbn0.gstatic.com/images?q=tbn:ANd9GcQj7HZmYG4j4dH1HCb2HCx2r2OXgOkdWalkN2lmJNCOnZAPqQvTRWshMfobcWk&s\n",
      "11 https://encrypted-tbn0.gstatic.com/images?q=tbn:ANd9GcQmg15Po_bVhzQCtoEdCbk75hkG0qtI0hrrZwbbHFiTogvAicDf0vQS9N2tbfA&s\n",
      "12 https://encrypted-tbn0.gstatic.com/images?q=tbn:ANd9GcQfiPrjNHQd5WaQp6NOwWSz097GYhx_cNPgCu_ymjbQxXn8QYevsYqqjdCip0w&s\n",
      "13 https://encrypted-tbn0.gstatic.com/images?q=tbn:ANd9GcReDabXJmoOCJPn-Qw106PtQmmw9FegUQplhdhMYzk5BT1hsrXAKApOsMR52g&s\n",
      "14 https://encrypted-tbn0.gstatic.com/images?q=tbn:ANd9GcTlJVqdnPvLZp2JC4lfQtxP-X-Y84pif0hAzrGa5ybAmtM6O4NwTWDvPDol5VA&s\n",
      "15 https://encrypted-tbn0.gstatic.com/images?q=tbn:ANd9GcRNZpMWY5gXXgxsuAgFyg6EYICnZzAbyGcJ1T-6LbTue-4c9oW3Odq0sEtBqw&s\n",
      "16 https://encrypted-tbn0.gstatic.com/images?q=tbn:ANd9GcSSx9hLfvcM-pni4PBrKfI5fJlE2RS3YG0Y8WsOItx0wdrNdmIrku4-CbWEP1I&s\n",
      "17 https://encrypted-tbn0.gstatic.com/images?q=tbn:ANd9GcQSHJpgHsT38bWVcuYWh9yqmiBB3vAEtaTPEYMwegp9ddYp8cen-vLU1o1POQc&s\n",
      "18 https://encrypted-tbn0.gstatic.com/images?q=tbn:ANd9GcT86siCoxtpk91h3obSSCppQWoFeIrGYAmmTr-OCP9acGcZ2acqCVADJmYAGXE&s\n",
      "19 https://encrypted-tbn0.gstatic.com/images?q=tbn:ANd9GcTTzWrvKu0-Hr1_vIaoKg7qdv-xdZvyhGG8zNozG0yombH64qZkgQnVP9utcw&s\n",
      "20 https://encrypted-tbn0.gstatic.com/images?q=tbn:ANd9GcRSSDgR6t6U8lMokgXxC2QvW5PsRdsfemb2r6Ao31xjh8eubBOp8ke9vYuAqqg&s\n"
     ]
    }
   ],
   "source": [
    "# 키워드\n",
    "query = '사과'\n",
    "url = f\"https://www.google.com/search?q={query}&source-lnms&tbm=isch\"\n",
    "header = {\n",
    "    \"User-Agent\": \"Mozilla/5.0 (Windows NT 10.0; Win64; x64) AppleWebKit/537.36 (KHTML, like Gecko) Chrome/58.0.3029.110 Safari/537.3\"\n",
    "}\n",
    "\n",
    "response = requests.get(url, headers= header)\n",
    "# print(response.text)\n",
    "\n",
    "soup = BeautifulSoup(response.text, \"html.parser\")\n",
    "# print(soup)\n",
    "\n",
    "img_tags = soup.find_all(\"img\")\n",
    "# print(img_tags)\n",
    "\n",
    "urls_list = []\n",
    "\n",
    "for img_tag in img_tags:\n",
    "    try:\n",
    "        urls_list.append(img_tag['src'])\n",
    "    except KeyError:\n",
    "        try:\n",
    "            urls_list.append(img_tag['data-src'])\n",
    "        except KeyError:\n",
    "            try:\n",
    "                urls_list.append(img_tag['data-iurl'])\n",
    "            except KeyError:\n",
    "                pass\n",
    "            \n",
    "# 이미지 저장\n",
    "os.makedirs(\"./image01_data/\", exist_ok=True)\n",
    "\n",
    "for i, url in enumerate(urls_list) :\n",
    "    print(i, url)\n",
    "\n",
    "    try :\n",
    "        img_data = requests.get(url, headers=header).content\n",
    "        file_path = f\"./image01_data/apple_{i}.png\"\n",
    "        with open(file_path, \"wb\") as f:\n",
    "            f.write(img_data)\n",
    "            \n",
    "        if os.path.getsize(file_path) == 0:\n",
    "            # 이미지 사이즈 0인 것들\n",
    "            os.remove(file_path)\n",
    "            # 제거\n",
    "            \n",
    "    except:\n",
    "        pass"
   ]
  },
  {
   "cell_type": "code",
   "execution_count": null,
   "id": "ee4b6835",
   "metadata": {},
   "outputs": [],
   "source": []
  }
 ],
 "metadata": {
  "kernelspec": {
   "display_name": "AI",
   "language": "python",
   "name": "ai"
  },
  "language_info": {
   "codemirror_mode": {
    "name": "ipython",
    "version": 3
   },
   "file_extension": ".py",
   "mimetype": "text/x-python",
   "name": "python",
   "nbconvert_exporter": "python",
   "pygments_lexer": "ipython3",
   "version": "3.8.16"
  }
 },
 "nbformat": 4,
 "nbformat_minor": 5
}
