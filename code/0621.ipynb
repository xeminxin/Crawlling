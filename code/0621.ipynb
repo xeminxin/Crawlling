{
 "cells": [
  {
   "cell_type": "code",
   "execution_count": 4,
   "id": "50976bd2",
   "metadata": {},
   "outputs": [
    {
     "name": "stderr",
     "output_type": "stream",
     "text": [
      "'chmod'은(는) 내부 또는 외부 명령, 실행할 수 있는 프로그램, 또는\n",
      "배치 파일이 아닙니다.\n"
     ]
    }
   ],
   "source": [
    "!chmod +x ./chromedriver"
   ]
  },
  {
   "cell_type": "code",
   "execution_count": 5,
   "id": "5183636a",
   "metadata": {},
   "outputs": [
    {
     "name": "stderr",
     "output_type": "stream",
     "text": [
      "C:\\Users\\smjin\\AppData\\Local\\Temp\\ipykernel_9944\\2633784515.py:17: DeprecationWarning: find_element_by_xpath is deprecated. Please use find_element(by=By.XPATH, value=xpath) instead\n",
      "  keyword = driver.find_element_by_xpath(\"/html/body/div[1]/div[3]/form/div[1]/div[1]/div[1]/div/div[2]/textarea\")\n",
      "C:\\Users\\smjin\\AppData\\Local\\Temp\\ipykernel_9944\\2633784515.py:21: DeprecationWarning: find_element_by_xpath is deprecated. Please use find_element(by=By.XPATH, value=xpath) instead\n",
      "  driver.find_element_by_xpath('/html/body/div[1]/div[3]/form/div[1]/div[1]/div[1]/button').click()\n"
     ]
    },
    {
     "ename": "ElementClickInterceptedException",
     "evalue": "Message: element click intercepted: Element <button jsname=\"Tg7LZd\" class=\"Tg7LZd\" aria-label=\"Google 검색\" type=\"submit\" data-ved=\"0ahUKEwiEqaO_0tP_AhWbc3AKHatsDjcQ4dUDCAc\">...</button> is not clickable at point (787, 214). Other element would receive the click: <iframe role=\"presentation\" frameborder=\"0\" scrolling=\"no\" name=\"callout\" src=\"https://ogs.google.com/widget/callout?prid=19028915&amp;pgid=19027681&amp;puid=11ce91fab5ae75bf&amp;cce=1&amp;dc=1&amp;origin=https%3A%2F%2Fwww.google.com&amp;cn=callout&amp;pid=1&amp;spid=2&amp;hl=ko\" style=\"height: 100%; width: 100%; color-scheme: light;\" data-iml=\"1687325817410\"></iframe>\n  (Session info: chrome=114.0.5735.134)\nStacktrace:\nBacktrace:\n\tGetHandleVerifier [0x0067A813+48355]\n\t(No symbol) [0x0060C4B1]\n\t(No symbol) [0x00515358]\n\t(No symbol) [0x00545062]\n\t(No symbol) [0x00543B98]\n\t(No symbol) [0x0054239B]\n\t(No symbol) [0x0054179E]\n\t(No symbol) [0x00539F5C]\n\t(No symbol) [0x0055A73C]\n\t(No symbol) [0x00539A36]\n\t(No symbol) [0x0055AA94]\n\t(No symbol) [0x0056C922]\n\t(No symbol) [0x0055A536]\n\t(No symbol) [0x005382DC]\n\t(No symbol) [0x005393DD]\n\tGetHandleVerifier [0x008DAABD+2539405]\n\tGetHandleVerifier [0x0091A78F+2800735]\n\tGetHandleVerifier [0x0091456C+2775612]\n\tGetHandleVerifier [0x007051E0+616112]\n\t(No symbol) [0x00615F8C]\n\t(No symbol) [0x00612328]\n\t(No symbol) [0x0061240B]\n\t(No symbol) [0x00604FF7]\n\tBaseThreadInitThunk [0x76467D59+25]\n\tRtlInitializeExceptionChain [0x778FB74B+107]\n\tRtlClearBits [0x778FB6CF+191]\n",
     "output_type": "error",
     "traceback": [
      "\u001b[1;31m---------------------------------------------------------------------------\u001b[0m",
      "\u001b[1;31mElementClickInterceptedException\u001b[0m          Traceback (most recent call last)",
      "Cell \u001b[1;32mIn[5], line 21\u001b[0m\n\u001b[0;32m     18\u001b[0m keyword\u001b[38;5;241m.\u001b[39msend_keys(query)\n\u001b[0;32m     20\u001b[0m \u001b[38;5;66;03m# 3. query 검색창에 검색 실행\u001b[39;00m\n\u001b[1;32m---> 21\u001b[0m \u001b[43mdriver\u001b[49m\u001b[38;5;241;43m.\u001b[39;49m\u001b[43mfind_element_by_xpath\u001b[49m\u001b[43m(\u001b[49m\u001b[38;5;124;43m'\u001b[39;49m\u001b[38;5;124;43m/html/body/div[1]/div[3]/form/div[1]/div[1]/div[1]/button\u001b[39;49m\u001b[38;5;124;43m'\u001b[39;49m\u001b[43m)\u001b[49m\u001b[38;5;241;43m.\u001b[39;49m\u001b[43mclick\u001b[49m\u001b[43m(\u001b[49m\u001b[43m)\u001b[49m\n",
      "File \u001b[1;32m~\\anaconda3\\envs\\AI\\lib\\site-packages\\selenium\\webdriver\\remote\\webelement.py:89\u001b[0m, in \u001b[0;36mWebElement.click\u001b[1;34m(self)\u001b[0m\n\u001b[0;32m     87\u001b[0m \u001b[38;5;28;01mdef\u001b[39;00m \u001b[38;5;21mclick\u001b[39m(\u001b[38;5;28mself\u001b[39m) \u001b[38;5;241m-\u001b[39m\u001b[38;5;241m>\u001b[39m \u001b[38;5;28;01mNone\u001b[39;00m:\n\u001b[0;32m     88\u001b[0m \u001b[38;5;250m    \u001b[39m\u001b[38;5;124;03m\"\"\"Clicks the element.\"\"\"\u001b[39;00m\n\u001b[1;32m---> 89\u001b[0m     \u001b[38;5;28;43mself\u001b[39;49m\u001b[38;5;241;43m.\u001b[39;49m\u001b[43m_execute\u001b[49m\u001b[43m(\u001b[49m\u001b[43mCommand\u001b[49m\u001b[38;5;241;43m.\u001b[39;49m\u001b[43mCLICK_ELEMENT\u001b[49m\u001b[43m)\u001b[49m\n",
      "File \u001b[1;32m~\\anaconda3\\envs\\AI\\lib\\site-packages\\selenium\\webdriver\\remote\\webelement.py:773\u001b[0m, in \u001b[0;36mWebElement._execute\u001b[1;34m(self, command, params)\u001b[0m\n\u001b[0;32m    771\u001b[0m     params \u001b[38;5;241m=\u001b[39m {}\n\u001b[0;32m    772\u001b[0m params[\u001b[38;5;124m'\u001b[39m\u001b[38;5;124mid\u001b[39m\u001b[38;5;124m'\u001b[39m] \u001b[38;5;241m=\u001b[39m \u001b[38;5;28mself\u001b[39m\u001b[38;5;241m.\u001b[39m_id\n\u001b[1;32m--> 773\u001b[0m \u001b[38;5;28;01mreturn\u001b[39;00m \u001b[38;5;28;43mself\u001b[39;49m\u001b[38;5;241;43m.\u001b[39;49m\u001b[43m_parent\u001b[49m\u001b[38;5;241;43m.\u001b[39;49m\u001b[43mexecute\u001b[49m\u001b[43m(\u001b[49m\u001b[43mcommand\u001b[49m\u001b[43m,\u001b[49m\u001b[43m \u001b[49m\u001b[43mparams\u001b[49m\u001b[43m)\u001b[49m\n",
      "File \u001b[1;32m~\\anaconda3\\envs\\AI\\lib\\site-packages\\selenium\\webdriver\\remote\\webdriver.py:430\u001b[0m, in \u001b[0;36mWebDriver.execute\u001b[1;34m(self, driver_command, params)\u001b[0m\n\u001b[0;32m    428\u001b[0m response \u001b[38;5;241m=\u001b[39m \u001b[38;5;28mself\u001b[39m\u001b[38;5;241m.\u001b[39mcommand_executor\u001b[38;5;241m.\u001b[39mexecute(driver_command, params)\n\u001b[0;32m    429\u001b[0m \u001b[38;5;28;01mif\u001b[39;00m response:\n\u001b[1;32m--> 430\u001b[0m     \u001b[38;5;28;43mself\u001b[39;49m\u001b[38;5;241;43m.\u001b[39;49m\u001b[43merror_handler\u001b[49m\u001b[38;5;241;43m.\u001b[39;49m\u001b[43mcheck_response\u001b[49m\u001b[43m(\u001b[49m\u001b[43mresponse\u001b[49m\u001b[43m)\u001b[49m\n\u001b[0;32m    431\u001b[0m     response[\u001b[38;5;124m'\u001b[39m\u001b[38;5;124mvalue\u001b[39m\u001b[38;5;124m'\u001b[39m] \u001b[38;5;241m=\u001b[39m \u001b[38;5;28mself\u001b[39m\u001b[38;5;241m.\u001b[39m_unwrap_value(\n\u001b[0;32m    432\u001b[0m         response\u001b[38;5;241m.\u001b[39mget(\u001b[38;5;124m'\u001b[39m\u001b[38;5;124mvalue\u001b[39m\u001b[38;5;124m'\u001b[39m, \u001b[38;5;28;01mNone\u001b[39;00m))\n\u001b[0;32m    433\u001b[0m     \u001b[38;5;28;01mreturn\u001b[39;00m response\n",
      "File \u001b[1;32m~\\anaconda3\\envs\\AI\\lib\\site-packages\\selenium\\webdriver\\remote\\errorhandler.py:247\u001b[0m, in \u001b[0;36mErrorHandler.check_response\u001b[1;34m(self, response)\u001b[0m\n\u001b[0;32m    245\u001b[0m         alert_text \u001b[38;5;241m=\u001b[39m value[\u001b[38;5;124m'\u001b[39m\u001b[38;5;124malert\u001b[39m\u001b[38;5;124m'\u001b[39m]\u001b[38;5;241m.\u001b[39mget(\u001b[38;5;124m'\u001b[39m\u001b[38;5;124mtext\u001b[39m\u001b[38;5;124m'\u001b[39m)\n\u001b[0;32m    246\u001b[0m     \u001b[38;5;28;01mraise\u001b[39;00m exception_class(message, screen, stacktrace, alert_text)  \u001b[38;5;66;03m# type: ignore[call-arg]  # mypy is not smart enough here\u001b[39;00m\n\u001b[1;32m--> 247\u001b[0m \u001b[38;5;28;01mraise\u001b[39;00m exception_class(message, screen, stacktrace)\n",
      "\u001b[1;31mElementClickInterceptedException\u001b[0m: Message: element click intercepted: Element <button jsname=\"Tg7LZd\" class=\"Tg7LZd\" aria-label=\"Google 검색\" type=\"submit\" data-ved=\"0ahUKEwiEqaO_0tP_AhWbc3AKHatsDjcQ4dUDCAc\">...</button> is not clickable at point (787, 214). Other element would receive the click: <iframe role=\"presentation\" frameborder=\"0\" scrolling=\"no\" name=\"callout\" src=\"https://ogs.google.com/widget/callout?prid=19028915&amp;pgid=19027681&amp;puid=11ce91fab5ae75bf&amp;cce=1&amp;dc=1&amp;origin=https%3A%2F%2Fwww.google.com&amp;cn=callout&amp;pid=1&amp;spid=2&amp;hl=ko\" style=\"height: 100%; width: 100%; color-scheme: light;\" data-iml=\"1687325817410\"></iframe>\n  (Session info: chrome=114.0.5735.134)\nStacktrace:\nBacktrace:\n\tGetHandleVerifier [0x0067A813+48355]\n\t(No symbol) [0x0060C4B1]\n\t(No symbol) [0x00515358]\n\t(No symbol) [0x00545062]\n\t(No symbol) [0x00543B98]\n\t(No symbol) [0x0054239B]\n\t(No symbol) [0x0054179E]\n\t(No symbol) [0x00539F5C]\n\t(No symbol) [0x0055A73C]\n\t(No symbol) [0x00539A36]\n\t(No symbol) [0x0055AA94]\n\t(No symbol) [0x0056C922]\n\t(No symbol) [0x0055A536]\n\t(No symbol) [0x005382DC]\n\t(No symbol) [0x005393DD]\n\tGetHandleVerifier [0x008DAABD+2539405]\n\tGetHandleVerifier [0x0091A78F+2800735]\n\tGetHandleVerifier [0x0091456C+2775612]\n\tGetHandleVerifier [0x007051E0+616112]\n\t(No symbol) [0x00615F8C]\n\t(No symbol) [0x00612328]\n\t(No symbol) [0x0061240B]\n\t(No symbol) [0x00604FF7]\n\tBaseThreadInitThunk [0x76467D59+25]\n\tRtlInitializeExceptionChain [0x778FB74B+107]\n\tRtlClearBits [0x778FB6CF+191]\n"
     ]
    }
   ],
   "source": [
    "from selenium import webdriver\n",
    "from selenium.webdriver.common.keys import Keys\n",
    "from selenium.webdriver.chrome.service import Service\n",
    "\n",
    "import time\n",
    "import os\n",
    "import urllib, requests\n",
    "\n",
    "\n",
    "# 1. query, chromedriver 실행\n",
    "query = \"mango\"\n",
    "service = Service('./chromedriver')\n",
    "driver = webdriver.Chrome(service=service)\n",
    "\n",
    "# 2. query 검색창에 추가 \n",
    "driver.get(\"https://www.google.com/imghp?hl=ko\")\n",
    "keyword = driver.find_element_by_xpath(\"/html/body/div[1]/div[3]/form/div[1]/div[1]/div[1]/div/div[2]/textarea\")\n",
    "keyword.send_keys(query)\n",
    "\n",
    "# 3. query 검색창에 검색 실행\n",
    "driver.find_element_by_xpath('/html/body/div[1]/div[3]/form/div[1]/div[1]/div[1]/button').click()\n"
   ]
  },
  {
   "cell_type": "code",
   "execution_count": null,
   "id": "6ef3e246",
   "metadata": {},
   "outputs": [],
   "source": [
    "\n",
    "print(f\"{query} 스크롤 내리는 중...\")\n",
    "elem = driver.find_element_by_tag_name(\"body\")\n",
    "for i in range(60) :\n",
    "    elem.send_keys(Keys.PAGE_DOWN)\n",
    "    time.sleep(0.1)\n",
    "\n",
    "try:\n",
    "    driver.find_element_by_xpath(\n",
    "        '/html/body/div[2]/c-wiz/div[3]/div[1]/div/div/div/div/div[1]/div[2]/div[2]/input'\n",
    "    )\n",
    "    for i in range(60):\n",
    "        elem.send_keys(Keys.PAGE_DOWN)\n",
    "        time.sleep(0.1)\n",
    "except:\n",
    "    pass\n",
    "\n",
    "link = []\n",
    "images = driver.find_element_by_css_selector('img.rg_i.Q4LuWd')\n",
    "# 한 이미지에서 class 주소 찾아서 img.rg_i 뒤에 있는 Q로 시작하는 것 복사해서 뒤에 붙이기\n",
    "for image in images:\n",
    "    \n",
    "    if image.get_attribute('src') != None:\n",
    "        link.append(image.get_attribute('src'))\n",
    "    elif image.get_attribute('data-src') != None:\n",
    "        link.append(image.get_attribute('data-src'))\n",
    "    elif image.get_attribute('data-iurl') != None:\n",
    "        link.append(image.get_attribute('data-iurl'))\n",
    "        \n",
    "print(f\"{query} 찾은 이미지 개수:\", len(link))\n",
    "time.sleep(1)"
   ]
  }
 ],
 "metadata": {
  "kernelspec": {
   "display_name": "AI",
   "language": "python",
   "name": "ai"
  },
  "language_info": {
   "codemirror_mode": {
    "name": "ipython",
    "version": 3
   },
   "file_extension": ".py",
   "mimetype": "text/x-python",
   "name": "python",
   "nbconvert_exporter": "python",
   "pygments_lexer": "ipython3",
   "version": "3.8.16"
  }
 },
 "nbformat": 4,
 "nbformat_minor": 5
}
