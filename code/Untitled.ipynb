{
 "cells": [
  {
   "cell_type": "code",
   "execution_count": 1,
   "id": "8e918b2a",
   "metadata": {},
   "outputs": [],
   "source": [
    "# 실제 AI hub 데이터를 활용하여 라벨링 체크하기 - polhygon 시각화\n",
    "import json\n",
    "import os\n",
    "import cv2\n",
    "import glob\n",
    "import numpy as np"
   ]
  },
  {
   "cell_type": "code",
   "execution_count": 2,
   "id": "3a24db75",
   "metadata": {},
   "outputs": [],
   "source": [
    "\n",
    "# json data\n",
    "json_dir = \"./anno\"\n",
    "json_paths = glob.glob(os.path.join(json_dir, \"*.json\"))\n",
    "        \n",
    "# label dict\n",
    "label_dict = {\"수각류\" : 0}\n"
   ]
  },
  {
   "cell_type": "code",
   "execution_count": 6,
   "id": "de6781fe",
   "metadata": {},
   "outputs": [],
   "source": [
    "# for json_path in json_paths :\n",
    "    \n",
    "    # json 읽기\n",
    "    with open(json_path, 'r', encoding='uft-8') as f:\n",
    "        json_data = json.load(f)\n",
    "        \n",
    "    print(\"json_data type : \", type(json_data))\n",
    "    print(json_data)"
   ]
  },
  {
   "cell_type": "code",
   "execution_count": 4,
   "id": "6a7c269a",
   "metadata": {},
   "outputs": [
    {
     "ename": "NameError",
     "evalue": "name 'annotations_info' is not defined",
     "output_type": "error",
     "traceback": [
      "\u001b[1;31m---------------------------------------------------------------------------\u001b[0m",
      "\u001b[1;31mNameError\u001b[0m                                 Traceback (most recent call last)",
      "Cell \u001b[1;32mIn[4], line 1\u001b[0m\n\u001b[1;32m----> 1\u001b[0m \u001b[38;5;28;01mfor\u001b[39;00m ann_info \u001b[38;5;129;01min\u001b[39;00m \u001b[43mannotations_info\u001b[49m:\n\u001b[0;32m      2\u001b[0m     \u001b[38;5;28;01mif\u001b[39;00m image_id \u001b[38;5;241m==\u001b[39m ann_info[\u001b[38;5;124m'\u001b[39m\u001b[38;5;124mimage_id\u001b[39m\u001b[38;5;124m'\u001b[39m]:\n\u001b[0;32m      3\u001b[0m         \n\u001b[0;32m      4\u001b[0m         \u001b[38;5;66;03m# image read\u001b[39;00m\n\u001b[0;32m      5\u001b[0m         image_path \u001b[38;5;241m=\u001b[39m os\u001b[38;5;241m.\u001b[39mpath\u001b[38;5;241m.\u001b[39mjoin(\u001b[38;5;124m\"\u001b[39m\u001b[38;5;124m./images/\u001b[39m\u001b[38;5;124m\"\u001b[39m, file_name)\n",
      "\u001b[1;31mNameError\u001b[0m: name 'annotations_info' is not defined"
     ]
    }
   ],
   "source": [
    "\n",
    "    \n",
    "for ann_info in annotations_info:\n",
    "    if image_id == ann_info['image_id']:\n",
    "        \n",
    "        # image read\n",
    "        image_path = os.path.join(\"./images/\", file_name)\n",
    "        image = cv2.imread(image_path)\n",
    "        \n",
    "        # image 스케일\n",
    "        scale_x = new_width / image.shape[1]    # x축 스케일 비율\n",
    "        scale_y = new_height / image.shape[0]   # y축 스케일 비율\n",
    "        \n",
    "        # 리사이즈\n",
    "        resized_image = cv2.resize(image, (new_width, new_height))\n",
    "        \n",
    "        category_name = ann_info['category_name']\n",
    "        polygons = ann_info['polygon']\n",
    "        \n",
    "        # 폴리곤의 좌표 생성\n",
    "        points = []\n",
    "        for polygon_info in polygons:\n",
    "            x = polygon_info['x']\n",
    "            y = polygon_info['y']\n",
    "            \n",
    "            resized_x = int(x * scale_x)\n",
    "            resized_y = int(y * scale_y)\n",
    "            \n",
    "            points.append((resized_x, resized_y))\n",
    "            \n",
    "        # 폴리곤 그리기\n",
    "        cv2.polylines(resized_image, [np.array(points, np.int32).reshape((-1, 1, 2))], isClosed=True, color=(0, 255, 0), thickness=2)\n",
    "        \n",
    "        # 폴리곤 좌표를 이용한 바운딩 박스 만들기 (xyxy format)\n",
    "        x_coords = [point[0] for point in points]\n",
    "        y_coords = [point[1] for point in points]\n",
    "        x_min = min(x_coords)\n",
    "        y_min = min(y_coords)\n",
    "        x_max = max(x_coords)\n",
    "        y_max = max(y_coords)       \n",
    "        \n",
    "        # Draw bounding box\n",
    "        cv2.rectangle(resized_image, (x_min, y_min), (x_max, y_max), (0, 0, 255), 2)\n",
    "        \n",
    "        # bounding box yolo 양식으로 저장하기 라벨은 샘플데이터에서는 하나다.\n",
    "        # 단 지금의 좌표는 리사이즈 스케일 적용된 좌표이므로 나중에 학습으로 사용시에는 리사이즈 처리된 이미지를 저장해서 사용해야 한다.\n",
    "        center_x = ((x_max + x_min) / (2 * new_width))\n",
    "        center_y = ((y_max + y_min) / (2 * new_height))\n",
    "        yolo_w = (x_max - x_min) / new_width\n",
    "        yolo_h = (y_max - y_min) / new_height\n",
    "        \n",
    "        # file_name\n",
    "        image_name_temp = file_name.replace(\".jpg\", \"\")\n",
    "        \n",
    "        # label_number\n",
    "        label_number = label_dict[category_name]\n",
    "        \n",
    "    os.makedirs(\"./yolo_label_data\", exist_ok = True)\n",
    "    with open(f\"./yolo_label_data/{image_name_temp}.txt\", 'a') as f:\n",
    "        f.write(f\"{label_number} {center_x} {center_y} {yolo_w} {yolo_h} \\n\")\n",
    "        \n",
    "    # 좌표를 저장하는 경우에는 시각화 부분은 주석처리\n",
    "    # cv2.imshow(\"Polygon\", resized_image)\n",
    "    \n",
    "    # if cv2.waitKey(0) & 0xFF == ord('q'):\n",
    "    #   exit()"
   ]
  },
  {
   "cell_type": "code",
   "execution_count": null,
   "id": "d0a32055",
   "metadata": {},
   "outputs": [],
   "source": []
  }
 ],
 "metadata": {
  "kernelspec": {
   "display_name": "AI",
   "language": "python",
   "name": "ai"
  },
  "language_info": {
   "codemirror_mode": {
    "name": "ipython",
    "version": 3
   },
   "file_extension": ".py",
   "mimetype": "text/x-python",
   "name": "python",
   "nbconvert_exporter": "python",
   "pygments_lexer": "ipython3",
   "version": "3.8.16"
  }
 },
 "nbformat": 4,
 "nbformat_minor": 5
}
