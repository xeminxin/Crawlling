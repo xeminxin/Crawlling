{
 "cells": [
  {
   "cell_type": "markdown",
   "id": "4ad9bd1a",
   "metadata": {},
   "source": [
    "# JSON 어노테이션 값 -> YOLO format 변경"
   ]
  },
  {
   "cell_type": "code",
   "execution_count": 1,
   "id": "4b3650c3",
   "metadata": {},
   "outputs": [],
   "source": [
    "import json\n",
    "import os\n",
    "import cv2\n",
    "import matplotlib.pyplot as plt"
   ]
  },
  {
   "cell_type": "markdown",
   "id": "7a378a9d",
   "metadata": {},
   "source": [
    "### JSON 파일 읽기"
   ]
  },
  {
   "cell_type": "code",
   "execution_count": 30,
   "id": "c01e19ee",
   "metadata": {},
   "outputs": [
    {
     "name": "stdout",
     "output_type": "stream",
     "text": [
      "{'id': 1, 'width': 2048, 'height': 1360, 'file_name': 'catanddog.jpg', 'license': 0, 'flickr_url': '', 'coco_url': '', 'date_captured': 0}\n",
      "./catanddog.jpg\n",
      "file name >>  catanddog.jpg\n",
      "0 0.300048828125 0.7143382352941177 0.19580078125 0.4360294117647059\n",
      "01\n",
      "1 0.638916015625 0.5566176470588236 0.47314453125 0.7838235294117647\n",
      "01\n"
     ]
    }
   ],
   "source": [
    "# 1. json 경로 선언\n",
    "json_path = './instances_default.json'\n",
    "\n",
    "# 2. json 읽기\n",
    "with open(json_path, 'r', encoding = 'utf-8') as f:\n",
    "    json_data = json.load(f)\n",
    "    \n",
    "# print(json_data)\n",
    "\n",
    "# 3. categories, images, annotations -> COCO dataset 기준\n",
    "categories_info = json_data['categories']\n",
    "images_info = json_data['images']\n",
    "annotations_info = json_data['annotations']\n",
    "\n",
    "# print(categories_info, images_info, annotations_info)\n",
    "\n",
    "# 4. 라벨 딕셔너리 선언\n",
    "# 0 -> cat, 1 -> dog\n",
    "label_dict = {1: 0, 2: 1}\n",
    "\n",
    "for image_json in images_info:\n",
    "    print(image_json)\n",
    "    file_name = image_json['file_name']\n",
    "    image_path = os.path.join(\"./\", file_name)\n",
    "    image_id = image_json['id']\n",
    "    print(image_path)\n",
    "    print('file name >> ', file_name)\n",
    "    \n",
    "    # image read\n",
    "    image = cv2.imread(image_path)\n",
    "    image = cv2.cvtColor(image, cv2.COLOR_BGR2RGB)\n",
    "    \n",
    "    # image size\n",
    "    img_height, img_width, img_channel = image.shape\n",
    "    \n",
    "    # bbox info\n",
    "for anno_json in annotations_info:\n",
    "    if image_id == anno_json['image_id']:\n",
    "        bbox = anno_json['bbox']\n",
    "        # 좌표 변수에 박스 좌표 저장 (int 형 변환 이유 : cv2.rectangle 좌표 값을 int 형태만 가능)\n",
    "        x = int(bbox[0])\n",
    "        y = int(bbox[1])\n",
    "        w = int(bbox[2])\n",
    "        h = int(bbox[3])\n",
    "        \n",
    "        # 5. 박스 그리기\n",
    "        image = cv2.rectangle(image, (x, y), (x+w, y+h), (0, 255, 0), 2)\n",
    "        \n",
    "        # 6. 라벨 표시\n",
    "        category_id = anno_json['category_id']\n",
    "        label_number = label_dict[category_id]\n",
    "        \n",
    "        # 7. xywh -> centerX, centerY, w, h 변환\n",
    "        center_x = ((2 * x + w)/(2 * img_width))\n",
    "        center_y = ((2 * y + h)/(2 * img_height))\n",
    "        yolo_w = w/img_width\n",
    "        yolo_h = h/img_height\n",
    "        \n",
    "        print(label_number, center_x, center_y, yolo_w, yolo_h)\n",
    "        # 이미지명과 라벨 파일명이 동일해야 한다.\n",
    "        # 위에 file_name 경우는 catanddog.jpg 우리가 필요한 것은 01이라는 이름\n",
    "        # file_name_temp = os.path.splitext(file_name)[0]\n",
    "        file_name_temp = file_name.replace(\"catanddog.jpg\", \"01\")\n",
    "        print(file_name_temp)\n",
    "        \n",
    "        # 텍스트 파일 쓰기\n",
    "    with open(f\"{file_name_temp}.txt\", \"a\") as f:\n",
    "        f.write(f\"{label_number} {center_x} {center_y} {yolo_w} {yolo_h} \\n\")"
   ]
  },
  {
   "cell_type": "code",
   "execution_count": null,
   "id": "ee4818cb",
   "metadata": {},
   "outputs": [],
   "source": []
  }
 ],
 "metadata": {
  "kernelspec": {
   "display_name": "AI",
   "language": "python",
   "name": "ai"
  },
  "language_info": {
   "codemirror_mode": {
    "name": "ipython",
    "version": 3
   },
   "file_extension": ".py",
   "mimetype": "text/x-python",
   "name": "python",
   "nbconvert_exporter": "python",
   "pygments_lexer": "ipython3",
   "version": "3.8.16"
  }
 },
 "nbformat": 4,
 "nbformat_minor": 5
}
